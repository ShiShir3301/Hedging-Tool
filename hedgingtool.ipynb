import numpy as np
import matplotlib.pyplot as plt
import ipywidgets as widgets
from ipywidgets import interact, FloatSlider

# Function to calculate profit
def calculate_profits(odds1, odds2, amount):
    bet1 = amount / (1 + odds1 / odds2)
    bet2 = amount - bet1
    profit1 = bet1 * odds1 - amount
    profit2 = bet2 * odds2 - amount
    return bet1, bet2, profit1, profit2

# Function to plot profit curves and no-loss interval
def plot_profit_curves(odds1, odds2, amount):
    x = np.linspace(0, amount, 100)
    profit1 = x * odds1 - amount
    profit2 = (amount - x) * odds2 - amount

    fig, ax = plt.subplots()
    ax.plot(x, profit1, label=f'Participant 1 (Odds: {odds1})', color='blue')
    ax.plot(x, profit2, label=f'Participant 2 (Odds: {odds2})', color='green')

    # Calculate and plot optimal allocation
    bet1, bet2, _, _ = calculate_profits(odds1, odds2, amount)
    ax.axvline(bet1, color='red', linestyle='--', label='Optimal Allocation')

    # Highlight no-loss interval
    ax.fill_between(x, 0, np.minimum(profit1, profit2), where=(profit1 >= 0) & (profit2 >= 0),
                    color='gray', alpha=0.2, label='No-Loss Interval')

    ax.set_xlabel('Amount Bet on Participant 1')
    ax.set_ylabel('Profit')
    ax.legend()
    plt.show()

# Interactive widgets
odds1_widget = FloatSlider(value=2.0, min=1.0, max=10.0, step=0.1, description='Odds 1')
odds2_widget = FloatSlider(value=2.0, min=1.0, max=10.0, step=0.1, description='Odds 2')
amount_widget = FloatSlider(value=100.0, min=10.0, max=1000.0, step=10.0, description='Amount')

# Display optimal allocation and plot profit curves
def display_results(odds1, odds2, amount):
    bet1, bet2, profit1, profit2 = calculate_profits(odds1, odds2, amount)
    print(f'Optimal Allocation: Bet {bet1:.2f} on Participant 1 and {bet2:.2f} on Participant 2')
    print(f'Profit if Participant 1 wins: {profit1:.2f}')
    print(f'Profit if Participant 2 wins: {profit2:.2f}')
    plot_profit_curves(odds1, odds2, amount)

# Interact with widgets
interact(display_results, odds1=odds1_widget, odds2=odds2_widget, amount=amount_widget)
